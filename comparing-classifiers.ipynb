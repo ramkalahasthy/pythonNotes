{
 "cells": [
  {
   "cell_type": "markdown",
   "metadata": {},
   "source": [
    "# A Comparison of Classifiers used for Building Classification Models\n",
    "\n",
    "Venkataraman TK\n",
    "\n",
    "In this Jupyter notebook, we will be comparing the performance of different classifiers for building classification models."
   ]
  },
  {
   "cell_type": "markdown",
   "metadata": {},
   "source": [
    "## 1. Make synthetic dataset"
   ]
  },
  {
   "cell_type": "markdown",
   "metadata": {},
   "source": [
    "### 1.1. Import library"
   ]
  },
  {
   "cell_type": "code",
   "execution_count": 1,
   "metadata": {},
   "outputs": [],
   "source": [
    "from sklearn.datasets import make_classification"
   ]
  },
  {
   "cell_type": "markdown",
   "metadata": {},
   "source": [
    "### 1.2. Generate the dataset"
   ]
  },
  {
   "cell_type": "code",
   "execution_count": 2,
   "metadata": {},
   "outputs": [],
   "source": [
    "X, Y = make_classification(n_samples=1000, n_classes=2, n_features=5, n_redundant=0, random_state=1)"
   ]
  },
  {
   "cell_type": "markdown",
   "metadata": {},
   "source": [
    "### 1.3. Let's examine the data dimension"
   ]
  },
  {
   "cell_type": "code",
   "execution_count": 3,
   "metadata": {},
   "outputs": [
    {
     "data": {
      "text/plain": [
       "(1000, 5)"
      ]
     },
     "execution_count": 3,
     "metadata": {},
     "output_type": "execute_result"
    }
   ],
   "source": [
    "X.shape"
   ]
  },
  {
   "cell_type": "code",
   "execution_count": 4,
   "metadata": {},
   "outputs": [
    {
     "data": {
      "text/plain": [
       "(1000,)"
      ]
     },
     "execution_count": 4,
     "metadata": {},
     "output_type": "execute_result"
    }
   ],
   "source": [
    "Y.shape"
   ]
  },
  {
   "cell_type": "markdown",
   "metadata": {},
   "source": [
    "## 2. Data split (80/20 ratio)"
   ]
  },
  {
   "cell_type": "markdown",
   "metadata": {},
   "source": [
    "### 2.1. Import library"
   ]
  },
  {
   "cell_type": "code",
   "execution_count": 5,
   "metadata": {},
   "outputs": [],
   "source": [
    "from sklearn.model_selection import train_test_split"
   ]
  },
  {
   "cell_type": "markdown",
   "metadata": {},
   "source": [
    "### 2.2. Data split"
   ]
  },
  {
   "cell_type": "code",
   "execution_count": 6,
   "metadata": {},
   "outputs": [],
   "source": [
    "X_train, X_test, Y_train, Y_test = train_test_split(X, Y, test_size=0.2)"
   ]
  },
  {
   "cell_type": "markdown",
   "metadata": {},
   "source": [
    "### 2.3. Let's examine the data dimension"
   ]
  },
  {
   "cell_type": "code",
   "execution_count": 7,
   "metadata": {},
   "outputs": [
    {
     "data": {
      "text/plain": [
       "((800, 5), (800,))"
      ]
     },
     "execution_count": 7,
     "metadata": {},
     "output_type": "execute_result"
    }
   ],
   "source": [
    "X_train.shape, Y_train.shape"
   ]
  },
  {
   "cell_type": "code",
   "execution_count": 8,
   "metadata": {},
   "outputs": [
    {
     "data": {
      "text/plain": [
       "((200, 5), (200,))"
      ]
     },
     "execution_count": 8,
     "metadata": {},
     "output_type": "execute_result"
    }
   ],
   "source": [
    "X_test.shape, Y_test.shape"
   ]
  },
  {
   "cell_type": "markdown",
   "metadata": {},
   "source": [
    "## 3. Build Classification Models\n",
    "\n",
    "Modified from: https://scikit-learn.org/stable/auto_examples/classification/plot_classifier_comparison.html"
   ]
  },
  {
   "cell_type": "markdown",
   "metadata": {},
   "source": [
    "### 3.1. Import modules"
   ]
  },
  {
   "cell_type": "code",
   "execution_count": 9,
   "metadata": {},
   "outputs": [],
   "source": [
    "import pandas as pd\n",
    "\n",
    "from sklearn.neural_network import MLPClassifier\n",
    "from sklearn.neighbors import KNeighborsClassifier\n",
    "from sklearn.svm import SVC\n",
    "from sklearn.gaussian_process import GaussianProcessClassifier\n",
    "from sklearn.ensemble import GradientBoostingClassifier\n",
    "from sklearn.gaussian_process.kernels import RBF\n",
    "from sklearn.tree import DecisionTreeClassifier\n",
    "from sklearn.ensemble import ExtraTreesClassifier\n",
    "from sklearn.ensemble import RandomForestClassifier, AdaBoostClassifier\n",
    "from sklearn.naive_bayes import GaussianNB\n",
    "from sklearn.discriminant_analysis import QuadraticDiscriminantAnalysis\n",
    "from sklearn.linear_model import SGDClassifier"
   ]
  },
  {
   "cell_type": "markdown",
   "metadata": {},
   "source": [
    "### 3.2. Defining learning classifiers"
   ]
  },
  {
   "cell_type": "code",
   "execution_count": 10,
   "metadata": {},
   "outputs": [],
   "source": [
    "names = [\"Nearest_Neighbors\", \"Linear_SVM\", \"Polynomial_SVM\", \"RBF_SVM\", \"Gaussian_Process\",\n",
    "         \"Gradient_Boosting\", \"Decision_Tree\", \"Extra_Trees\", \"Random_Forest\", \"Neural_Net\", \"AdaBoost\",\n",
    "         \"Naive_Bayes\", \"QDA\", \"SGD\"]\n",
    "\n",
    "classifiers = [\n",
    "    KNeighborsClassifier(3),\n",
    "    SVC(kernel=\"linear\", C=0.025),\n",
    "    SVC(kernel=\"poly\", degree=3, C=0.025),\n",
    "    SVC(kernel=\"rbf\", C=1, gamma=2),\n",
    "    GaussianProcessClassifier(1.0 * RBF(1.0)),\n",
    "    GradientBoostingClassifier(n_estimators=100, learning_rate=1.0),\n",
    "    DecisionTreeClassifier(max_depth=5),\n",
    "    ExtraTreesClassifier(n_estimators=10, min_samples_split=2),\n",
    "    RandomForestClassifier(max_depth=5, n_estimators=100),\n",
    "    MLPClassifier(alpha=1, max_iter=1000),\n",
    "    AdaBoostClassifier(n_estimators=100),\n",
    "    GaussianNB(),\n",
    "    QuadraticDiscriminantAnalysis(),\n",
    "    SGDClassifier(loss=\"hinge\", penalty=\"l2\")]"
   ]
  },
  {
   "cell_type": "markdown",
   "metadata": {},
   "source": [
    "### 3.3. Build Model, Apply Model on Test Data & Record Accuracy Scores"
   ]
  },
  {
   "cell_type": "code",
   "execution_count": 11,
   "metadata": {},
   "outputs": [
    {
     "name": "stderr",
     "output_type": "stream",
     "text": [
      "D:\\Anaconda1\\lib\\site-packages\\sklearn\\svm\\base.py:193: FutureWarning: The default value of gamma will change from 'auto' to 'scale' in version 0.22 to account better for unscaled features. Set gamma explicitly to 'auto' or 'scale' to avoid this warning.\n",
      "  \"avoid this warning.\", FutureWarning)\n"
     ]
    }
   ],
   "source": [
    "scores = []\n",
    "for name, clf in zip(names, classifiers):\n",
    "    clf.fit(X_train, Y_train)\n",
    "    score = clf.score(X_test, Y_test)\n",
    "    scores.append(score)"
   ]
  },
  {
   "cell_type": "code",
   "execution_count": 12,
   "metadata": {},
   "outputs": [
    {
     "data": {
      "text/plain": [
       "[0.845,\n",
       " 0.88,\n",
       " 0.845,\n",
       " 0.84,\n",
       " 0.885,\n",
       " 0.86,\n",
       " 0.9,\n",
       " 0.895,\n",
       " 0.85,\n",
       " 0.89,\n",
       " 0.84,\n",
       " 0.88,\n",
       " 0.875,\n",
       " 0.83]"
      ]
     },
     "execution_count": 12,
     "metadata": {},
     "output_type": "execute_result"
    }
   ],
   "source": [
    "scores"
   ]
  },
  {
   "cell_type": "markdown",
   "metadata": {},
   "source": [
    "## 4. Analysis of Model Performance"
   ]
  },
  {
   "cell_type": "markdown",
   "metadata": {},
   "source": [
    "### 4.1. Import library"
   ]
  },
  {
   "cell_type": "code",
   "execution_count": 13,
   "metadata": {},
   "outputs": [],
   "source": [
    "import pandas as pd\n",
    "import seaborn as sns"
   ]
  },
  {
   "cell_type": "markdown",
   "metadata": {},
   "source": [
    "### 4.2. Create data frame of *model performance*"
   ]
  },
  {
   "cell_type": "code",
   "execution_count": 34,
   "metadata": {},
   "outputs": [],
   "source": [
    "df = pd.DataFrame()\n",
    "df['name'] = names\n",
    "df['score'] = scores\n",
    "df = df.sort_values(by=['score'], ascending=False)"
   ]
  },
  {
   "cell_type": "markdown",
   "metadata": {},
   "source": [
    "### 4.3. Adding colors to the data frame"
   ]
  },
  {
   "cell_type": "code",
   "execution_count": 38,
   "metadata": {
    "scrolled": true
   },
   "outputs": [
    {
     "data": {
      "text/html": [
       "<style  type=\"text/css\" >\n",
       "    #T_67d5c090_a7f1_11ea_9399_907841e313a5row0_col1 {\n",
       "            background-color:  #008000;\n",
       "            color:  #f1f1f1;\n",
       "        }    #T_67d5c090_a7f1_11ea_9399_907841e313a5row1_col1 {\n",
       "            background-color:  #108910;\n",
       "            color:  #f1f1f1;\n",
       "        }    #T_67d5c090_a7f1_11ea_9399_907841e313a5row2_col1 {\n",
       "            background-color:  #209220;\n",
       "            color:  #000000;\n",
       "        }    #T_67d5c090_a7f1_11ea_9399_907841e313a5row3_col1 {\n",
       "            background-color:  #319b31;\n",
       "            color:  #000000;\n",
       "        }    #T_67d5c090_a7f1_11ea_9399_907841e313a5row4_col1 {\n",
       "            background-color:  #42a442;\n",
       "            color:  #000000;\n",
       "        }    #T_67d5c090_a7f1_11ea_9399_907841e313a5row5_col1 {\n",
       "            background-color:  #42a442;\n",
       "            color:  #000000;\n",
       "        }    #T_67d5c090_a7f1_11ea_9399_907841e313a5row6_col1 {\n",
       "            background-color:  #52ad52;\n",
       "            color:  #000000;\n",
       "        }    #T_67d5c090_a7f1_11ea_9399_907841e313a5row7_col1 {\n",
       "            background-color:  #83c983;\n",
       "            color:  #000000;\n",
       "        }    #T_67d5c090_a7f1_11ea_9399_907841e313a5row8_col1 {\n",
       "            background-color:  #a4dba4;\n",
       "            color:  #000000;\n",
       "        }    #T_67d5c090_a7f1_11ea_9399_907841e313a5row9_col1 {\n",
       "            background-color:  #b5e4b5;\n",
       "            color:  #000000;\n",
       "        }    #T_67d5c090_a7f1_11ea_9399_907841e313a5row10_col1 {\n",
       "            background-color:  #b5e4b5;\n",
       "            color:  #000000;\n",
       "        }    #T_67d5c090_a7f1_11ea_9399_907841e313a5row11_col1 {\n",
       "            background-color:  #c5edc5;\n",
       "            color:  #000000;\n",
       "        }    #T_67d5c090_a7f1_11ea_9399_907841e313a5row12_col1 {\n",
       "            background-color:  #c5edc5;\n",
       "            color:  #000000;\n",
       "        }    #T_67d5c090_a7f1_11ea_9399_907841e313a5row13_col1 {\n",
       "            background-color:  #e5ffe5;\n",
       "            color:  #000000;\n",
       "        }</style><table id=\"T_67d5c090_a7f1_11ea_9399_907841e313a5\" ><thead>    <tr>        <th class=\"blank level0\" ></th>        <th class=\"col_heading level0 col0\" >name</th>        <th class=\"col_heading level0 col1\" >score</th>    </tr></thead><tbody>\n",
       "                <tr>\n",
       "                        <th id=\"T_67d5c090_a7f1_11ea_9399_907841e313a5level0_row0\" class=\"row_heading level0 row0\" >6</th>\n",
       "                        <td id=\"T_67d5c090_a7f1_11ea_9399_907841e313a5row0_col0\" class=\"data row0 col0\" >Decision_Tree</td>\n",
       "                        <td id=\"T_67d5c090_a7f1_11ea_9399_907841e313a5row0_col1\" class=\"data row0 col1\" >0.9</td>\n",
       "            </tr>\n",
       "            <tr>\n",
       "                        <th id=\"T_67d5c090_a7f1_11ea_9399_907841e313a5level0_row1\" class=\"row_heading level0 row1\" >7</th>\n",
       "                        <td id=\"T_67d5c090_a7f1_11ea_9399_907841e313a5row1_col0\" class=\"data row1 col0\" >Extra_Trees</td>\n",
       "                        <td id=\"T_67d5c090_a7f1_11ea_9399_907841e313a5row1_col1\" class=\"data row1 col1\" >0.895</td>\n",
       "            </tr>\n",
       "            <tr>\n",
       "                        <th id=\"T_67d5c090_a7f1_11ea_9399_907841e313a5level0_row2\" class=\"row_heading level0 row2\" >9</th>\n",
       "                        <td id=\"T_67d5c090_a7f1_11ea_9399_907841e313a5row2_col0\" class=\"data row2 col0\" >Neural_Net</td>\n",
       "                        <td id=\"T_67d5c090_a7f1_11ea_9399_907841e313a5row2_col1\" class=\"data row2 col1\" >0.89</td>\n",
       "            </tr>\n",
       "            <tr>\n",
       "                        <th id=\"T_67d5c090_a7f1_11ea_9399_907841e313a5level0_row3\" class=\"row_heading level0 row3\" >4</th>\n",
       "                        <td id=\"T_67d5c090_a7f1_11ea_9399_907841e313a5row3_col0\" class=\"data row3 col0\" >Gaussian_Process</td>\n",
       "                        <td id=\"T_67d5c090_a7f1_11ea_9399_907841e313a5row3_col1\" class=\"data row3 col1\" >0.885</td>\n",
       "            </tr>\n",
       "            <tr>\n",
       "                        <th id=\"T_67d5c090_a7f1_11ea_9399_907841e313a5level0_row4\" class=\"row_heading level0 row4\" >1</th>\n",
       "                        <td id=\"T_67d5c090_a7f1_11ea_9399_907841e313a5row4_col0\" class=\"data row4 col0\" >Linear_SVM</td>\n",
       "                        <td id=\"T_67d5c090_a7f1_11ea_9399_907841e313a5row4_col1\" class=\"data row4 col1\" >0.88</td>\n",
       "            </tr>\n",
       "            <tr>\n",
       "                        <th id=\"T_67d5c090_a7f1_11ea_9399_907841e313a5level0_row5\" class=\"row_heading level0 row5\" >11</th>\n",
       "                        <td id=\"T_67d5c090_a7f1_11ea_9399_907841e313a5row5_col0\" class=\"data row5 col0\" >Naive_Bayes</td>\n",
       "                        <td id=\"T_67d5c090_a7f1_11ea_9399_907841e313a5row5_col1\" class=\"data row5 col1\" >0.88</td>\n",
       "            </tr>\n",
       "            <tr>\n",
       "                        <th id=\"T_67d5c090_a7f1_11ea_9399_907841e313a5level0_row6\" class=\"row_heading level0 row6\" >12</th>\n",
       "                        <td id=\"T_67d5c090_a7f1_11ea_9399_907841e313a5row6_col0\" class=\"data row6 col0\" >QDA</td>\n",
       "                        <td id=\"T_67d5c090_a7f1_11ea_9399_907841e313a5row6_col1\" class=\"data row6 col1\" >0.875</td>\n",
       "            </tr>\n",
       "            <tr>\n",
       "                        <th id=\"T_67d5c090_a7f1_11ea_9399_907841e313a5level0_row7\" class=\"row_heading level0 row7\" >5</th>\n",
       "                        <td id=\"T_67d5c090_a7f1_11ea_9399_907841e313a5row7_col0\" class=\"data row7 col0\" >Gradient_Boosting</td>\n",
       "                        <td id=\"T_67d5c090_a7f1_11ea_9399_907841e313a5row7_col1\" class=\"data row7 col1\" >0.86</td>\n",
       "            </tr>\n",
       "            <tr>\n",
       "                        <th id=\"T_67d5c090_a7f1_11ea_9399_907841e313a5level0_row8\" class=\"row_heading level0 row8\" >8</th>\n",
       "                        <td id=\"T_67d5c090_a7f1_11ea_9399_907841e313a5row8_col0\" class=\"data row8 col0\" >Random_Forest</td>\n",
       "                        <td id=\"T_67d5c090_a7f1_11ea_9399_907841e313a5row8_col1\" class=\"data row8 col1\" >0.85</td>\n",
       "            </tr>\n",
       "            <tr>\n",
       "                        <th id=\"T_67d5c090_a7f1_11ea_9399_907841e313a5level0_row9\" class=\"row_heading level0 row9\" >0</th>\n",
       "                        <td id=\"T_67d5c090_a7f1_11ea_9399_907841e313a5row9_col0\" class=\"data row9 col0\" >Nearest_Neighbors</td>\n",
       "                        <td id=\"T_67d5c090_a7f1_11ea_9399_907841e313a5row9_col1\" class=\"data row9 col1\" >0.845</td>\n",
       "            </tr>\n",
       "            <tr>\n",
       "                        <th id=\"T_67d5c090_a7f1_11ea_9399_907841e313a5level0_row10\" class=\"row_heading level0 row10\" >2</th>\n",
       "                        <td id=\"T_67d5c090_a7f1_11ea_9399_907841e313a5row10_col0\" class=\"data row10 col0\" >Polynomial_SVM</td>\n",
       "                        <td id=\"T_67d5c090_a7f1_11ea_9399_907841e313a5row10_col1\" class=\"data row10 col1\" >0.845</td>\n",
       "            </tr>\n",
       "            <tr>\n",
       "                        <th id=\"T_67d5c090_a7f1_11ea_9399_907841e313a5level0_row11\" class=\"row_heading level0 row11\" >3</th>\n",
       "                        <td id=\"T_67d5c090_a7f1_11ea_9399_907841e313a5row11_col0\" class=\"data row11 col0\" >RBF_SVM</td>\n",
       "                        <td id=\"T_67d5c090_a7f1_11ea_9399_907841e313a5row11_col1\" class=\"data row11 col1\" >0.84</td>\n",
       "            </tr>\n",
       "            <tr>\n",
       "                        <th id=\"T_67d5c090_a7f1_11ea_9399_907841e313a5level0_row12\" class=\"row_heading level0 row12\" >10</th>\n",
       "                        <td id=\"T_67d5c090_a7f1_11ea_9399_907841e313a5row12_col0\" class=\"data row12 col0\" >AdaBoost</td>\n",
       "                        <td id=\"T_67d5c090_a7f1_11ea_9399_907841e313a5row12_col1\" class=\"data row12 col1\" >0.84</td>\n",
       "            </tr>\n",
       "            <tr>\n",
       "                        <th id=\"T_67d5c090_a7f1_11ea_9399_907841e313a5level0_row13\" class=\"row_heading level0 row13\" >13</th>\n",
       "                        <td id=\"T_67d5c090_a7f1_11ea_9399_907841e313a5row13_col0\" class=\"data row13 col0\" >SGD</td>\n",
       "                        <td id=\"T_67d5c090_a7f1_11ea_9399_907841e313a5row13_col1\" class=\"data row13 col1\" >0.83</td>\n",
       "            </tr>\n",
       "    </tbody></table>"
      ],
      "text/plain": [
       "<pandas.io.formats.style.Styler at 0x1ef14946320>"
      ]
     },
     "execution_count": 38,
     "metadata": {},
     "output_type": "execute_result"
    }
   ],
   "source": [
    "#https://pandas.pydata.org/pandas-docs/stable/user_guide/style.html\n",
    "\n",
    "cm = sns.light_palette(\"green\", as_cmap=True)\n",
    "s = df.style.background_gradient(cmap=cm)\n",
    "s"
   ]
  },
  {
   "cell_type": "markdown",
   "metadata": {},
   "source": [
    "### 4.4. Bar plot of model performance"
   ]
  },
  {
   "cell_type": "code",
   "execution_count": 41,
   "metadata": {
    "scrolled": true
   },
   "outputs": [
    {
     "data": {
      "image/png": "[encoded data removed]",
      "text/plain": [
       "<Figure size 432x288 with 1 Axes>"
      ]
     },
     "metadata": {},
     "output_type": "display_data"
    }
   ],
   "source": [
    "sns.set(style=\"whitegrid\")\n",
    "ax = sns.barplot(y=\"name\", x=\"score\", data=df)"
   ]
  },
  {
   "cell_type": "markdown",
   "metadata": {},
   "source": [
    "---"
   ]
  }
 ],
 "metadata": {
  "kernelspec": {
   "display_name": "Python 3",
   "language": "python",
   "name": "python3"
  },
  "language_info": {
   "codemirror_mode": {
    "name": "ipython",
    "version": 3
   },
   "file_extension": ".py",
   "mimetype": "text/x-python",
   "name": "python",
   "nbconvert_exporter": "python",
   "pygments_lexer": "ipython3",
   "version": "3.7.3"
  }
 },
 "nbformat": 4,
 "nbformat_minor": 4
}
